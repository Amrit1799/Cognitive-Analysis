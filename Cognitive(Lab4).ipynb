{
  "nbformat": 4,
  "nbformat_minor": 0,
  "metadata": {
    "colab": {
      "name": "Cognitive(Lab4).ipynb",
      "provenance": [],
      "collapsed_sections": [],
      "authorship_tag": "ABX9TyMxSgW0qCzGYZIAgIIw8rCj",
      "include_colab_link": true
    },
    "kernelspec": {
      "name": "python3",
      "display_name": "Python 3"
    }
  },
  "cells": [
    {
      "cell_type": "markdown",
      "metadata": {
        "id": "view-in-github",
        "colab_type": "text"
      },
      "source": [
        "<a href=\"https://colab.research.google.com/github/Amrit1799/Cognitive-Analysis/blob/main/Cognitive(Lab4).ipynb\" target=\"_parent\"><img src=\"https://colab.research.google.com/assets/colab-badge.svg\" alt=\"Open In Colab\"/></a>"
      ]
    },
    {
      "cell_type": "code",
      "metadata": {
        "id": "4xRUhtMdYfyO",
        "colab": {
          "base_uri": "https://localhost:8080/",
          "height": 101
        },
        "outputId": "b3fc6264-2096-42ab-8cdf-a7b501c94520"
      },
      "source": [
        "pip install glmnet\n"
      ],
      "execution_count": null,
      "outputs": [
        {
          "output_type": "stream",
          "text": [
            "Requirement already satisfied: glmnet in /usr/local/lib/python3.6/dist-packages (2.2.1)\n",
            "Requirement already satisfied: scipy>=0.14.1 in /usr/local/lib/python3.6/dist-packages (from glmnet) (1.4.1)\n",
            "Requirement already satisfied: scikit-learn>=0.18.0 in /usr/local/lib/python3.6/dist-packages (from glmnet) (0.22.2.post1)\n",
            "Requirement already satisfied: numpy>=1.9.2 in /usr/local/lib/python3.6/dist-packages (from glmnet) (1.18.5)\n",
            "Requirement already satisfied: joblib>=0.14.1 in /usr/local/lib/python3.6/dist-packages (from glmnet) (0.16.0)\n"
          ],
          "name": "stdout"
        }
      ]
    },
    {
      "cell_type": "markdown",
      "metadata": {
        "id": "wpmAO5kVo8ML"
      },
      "source": [
        "**Importing the Libraries**"
      ]
    },
    {
      "cell_type": "code",
      "metadata": {
        "id": "8LAv1viSZXw-"
      },
      "source": [
        "import pandas as pd\n",
        "import numpy as np\n",
        "import math\n",
        "import glmnet\n",
        "from sklearn.linear_model import Ridge\n",
        "from sklearn.linear_model import Lasso\n",
        "import matplotlib.pyplot as plt\n",
        "from sklearn.metrics import mean_squared_error\n",
        "from sklearn.metrics import r2_score"
      ],
      "execution_count": null,
      "outputs": []
    },
    {
      "cell_type": "markdown",
      "metadata": {
        "id": "-XRX7JmcuN97"
      },
      "source": [
        "Reading, Preprocessing and Dividing the dataset into training & testing"
      ]
    },
    {
      "cell_type": "code",
      "metadata": {
        "id": "D3tJZA53ZmNl"
      },
      "source": [
        "dataset = pd.DataFrame(pd.read_csv('Hitters.csv'))"
      ],
      "execution_count": null,
      "outputs": []
    },
    {
      "cell_type": "code",
      "metadata": {
        "id": "sqDXjN3OaJCc"
      },
      "source": [
        "####  Taking the nan values from salary and making it the test dataset.\n",
        "\n",
        "data = pd.read_csv(\"Hitters.csv\", index_col =\"Salary\")\n",
        "test = data.loc[math.nan]"
      ],
      "execution_count": null,
      "outputs": []
    },
    {
      "cell_type": "code",
      "metadata": {
        "id": "vdiLfwHxaSb5"
      },
      "source": [
        "####  deleting the rows corresponding to null value.\n",
        "train = dataset.dropna()"
      ],
      "execution_count": null,
      "outputs": []
    },
    {
      "cell_type": "code",
      "metadata": {
        "id": "BE-OOyTmaepj"
      },
      "source": [
        "x=train.iloc[:,0:18]\n",
        "y=train.iloc[:,18]\n",
        "\n",
        "test= test.iloc[:,0:18]"
      ],
      "execution_count": null,
      "outputs": []
    },
    {
      "cell_type": "code",
      "metadata": {
        "id": "kyCABdfiam4o"
      },
      "source": [
        "features_to_encode = ['League','Division']\n",
        "\n",
        "# Convert categorical variables into one hot encoding\n",
        "\n",
        "for col in features_to_encode:\n",
        "    x[col] = x[col].astype('category')\n",
        "    test[col] = test[col].astype('category')\n",
        "x = pd.get_dummies(data = x, columns = features_to_encode)\n",
        "test = pd.get_dummies(data = test, columns = features_to_encode)"
      ],
      "execution_count": null,
      "outputs": []
    },
    {
      "cell_type": "markdown",
      "metadata": {
        "id": "drWR78v1wQhh"
      },
      "source": [
        "Scatter plot between a x attribute and y\n"
      ]
    },
    {
      "cell_type": "code",
      "metadata": {
        "id": "DB02X3-tasGz",
        "colab": {
          "base_uri": "https://localhost:8080/",
          "height": 282
        },
        "outputId": "d40113e8-35df-4474-d429-424925f44ede"
      },
      "source": [
        "plt.scatter(x['Runs'], y)"
      ],
      "execution_count": null,
      "outputs": [
        {
          "output_type": "execute_result",
          "data": {
            "text/plain": [
              "<matplotlib.collections.PathCollection at 0x7f279e8d48d0>"
            ]
          },
          "metadata": {
            "tags": []
          },
          "execution_count": 24
        },
        {
          "output_type": "display_data",
          "data": {
            "image/png": "[encoded data removed]",
            "text/plain": [
              "<Figure size 432x288 with 1 Axes>"
            ]
          },
          "metadata": {
            "tags": [],
            "needs_background": "light"
          }
        }
      ]
    },
    {
      "cell_type": "markdown",
      "metadata": {
        "id": "kCOmiAQlx6l7"
      },
      "source": [
        "Defining and Predicting Ridge Regression\n"
      ]
    },
    {
      "cell_type": "code",
      "metadata": {
        "id": "52Y_2tfKaxAq"
      },
      "source": [
        "rr = Ridge(alpha=20)\n",
        "rr.fit(x, y)\n",
        "w = rr.coef_"
      ],
      "execution_count": null,
      "outputs": []
    },
    {
      "cell_type": "code",
      "metadata": {
        "id": "Iz1w0ASka6Wf",
        "colab": {
          "base_uri": "https://localhost:8080/",
          "height": 282
        },
        "outputId": "c744299a-c694-433b-dced-3417d3a06433"
      },
      "source": [
        "plt.scatter(x['Hits'], y)\n",
        "plt.plot(x['Hits'], w[1]*x['Hits'], c='black')"
      ],
      "execution_count": null,
      "outputs": [
        {
          "output_type": "execute_result",
          "data": {
            "text/plain": [
              "[<matplotlib.lines.Line2D at 0x7f279e7e99b0>]"
            ]
          },
          "metadata": {
            "tags": []
          },
          "execution_count": 27
        },
        {
          "output_type": "display_data",
          "data": {
            "image/png": "[encoded data removed]",
            "text/plain": [
              "<Figure size 432x288 with 1 Axes>"
            ]
          },
          "metadata": {
            "tags": [],
            "needs_background": "light"
          }
        }
      ]
    },
    {
      "cell_type": "code",
      "metadata": {
        "id": "QBRjYYRea-dE",
        "colab": {
          "base_uri": "https://localhost:8080/",
          "height": 34
        },
        "outputId": "d5ce72a9-c013-4c1b-df3c-75b7b67da941"
      },
      "source": [
        "rr.score(x,y)"
      ],
      "execution_count": null,
      "outputs": [
        {
          "output_type": "execute_result",
          "data": {
            "text/plain": [
              "0.545589889639576"
            ]
          },
          "metadata": {
            "tags": []
          },
          "execution_count": 28
        }
      ]
    },
    {
      "cell_type": "code",
      "metadata": {
        "id": "MZ0hNDV0bFhD",
        "colab": {
          "base_uri": "https://localhost:8080/",
          "height": 84
        },
        "outputId": "80183f73-d52d-482e-a328-38cbd4e45bea"
      },
      "source": [
        "##### calculating the score and rms value.\n",
        "\n",
        "\n",
        "y1 = rr.predict(x)\n",
        "print('RMS Error')\n",
        "print(np.sqrt(mean_squared_error(y,y1)))\n",
        "print('R2 Score')\n",
        "print(r2_score(y,y1))"
      ],
      "execution_count": null,
      "outputs": [
        {
          "output_type": "stream",
          "text": [
            "RMS Error\n",
            "303.52018322030005\n",
            "R2 Score\n",
            "0.545589889639576\n"
          ],
          "name": "stdout"
        }
      ]
    },
    {
      "cell_type": "code",
      "metadata": {
        "id": "ql-z5dC7biYr",
        "colab": {
          "base_uri": "https://localhost:8080/",
          "height": 269
        },
        "outputId": "edd5bc76-4f19-4429-fc4f-c475d3d1f833"
      },
      "source": [
        "########   Final Predicted Salary\n",
        "\n",
        "y_predicted = rr.predict(test)\n",
        "y_predicted"
      ],
      "execution_count": null,
      "outputs": [
        {
          "output_type": "execute_result",
          "data": {
            "text/plain": [
              "array([ 144.61296733,   29.57972785,  716.00932857,  300.80424054,\n",
              "        599.71991952, 1207.94042708,  242.87257949,  805.44323216,\n",
              "        158.54080071,  338.36004699,  371.68040213,  294.93883837,\n",
              "       1374.71512766,  159.68832466,  424.25080732,   63.7513433 ,\n",
              "        225.06768846,  548.04833489,  402.93707224,  351.43125947,\n",
              "        763.95754764,   89.09933322,  341.37578859,  677.05950147,\n",
              "        421.80409352,  553.92358041, 1141.95860397,  132.15378306,\n",
              "        161.96843947, 1043.90551686,  464.39040206,  221.09116501,\n",
              "        303.33861991,  168.66836416,  252.58611496,  543.94169927,\n",
              "         96.14142312,  330.73036653,  283.51607453,  248.45006831,\n",
              "        194.44296066,  618.04683601,  283.5578752 ,  416.73771659,\n",
              "        283.87281301,  416.35999236,  330.63864356,  974.25966911,\n",
              "        636.97308808,  110.05185017,  107.03968352,  340.67819926,\n",
              "        222.01958632,  174.24355313,  568.93714964,  179.20010727,\n",
              "       1256.1328408 , 1082.20095142,  312.55272085])"
            ]
          },
          "metadata": {
            "tags": []
          },
          "execution_count": 30
        }
      ]
    },
    {
      "cell_type": "markdown",
      "metadata": {
        "id": "e-hUCy1Cecjy"
      },
      "source": [
        "**LASSO**"
      ]
    },
    {
      "cell_type": "code",
      "metadata": {
        "id": "RZI5hWtKeTEZ",
        "colab": {
          "base_uri": "https://localhost:8080/",
          "height": 138
        },
        "outputId": "8af065f1-a612-4d13-8b42-fa506d84a1fa"
      },
      "source": [
        "model_lasso = Lasso(alpha=20)\n",
        "model_lasso.fit(x, y) \n",
        "y_train_lasso= model_lasso.predict(x)\n",
        "print('RMS Error')\n",
        "print(np.sqrt(mean_squared_error(y,y_train_lasso)))\n",
        "print('R2 Score')\n",
        "print(r2_score(y,y_train_lasso))\n"
      ],
      "execution_count": null,
      "outputs": [
        {
          "output_type": "stream",
          "text": [
            "RMS Error\n",
            "307.1445818318507\n",
            "R2 Score\n",
            "0.5346726799553602\n"
          ],
          "name": "stdout"
        },
        {
          "output_type": "stream",
          "text": [
            "/usr/local/lib/python3.6/dist-packages/sklearn/linear_model/_coordinate_descent.py:476: ConvergenceWarning: Objective did not converge. You might want to increase the number of iterations. Duality gap: 8506062.60824124, tolerance: 5331.911278864536\n",
            "  positive)\n"
          ],
          "name": "stderr"
        }
      ]
    },
    {
      "cell_type": "markdown",
      "metadata": {
        "id": "U2lXiJZ8yXAw"
      },
      "source": [
        "Predicting Salary using Lasso"
      ]
    },
    {
      "cell_type": "code",
      "metadata": {
        "id": "8j2gfDW-fUMO",
        "colab": {
          "base_uri": "https://localhost:8080/",
          "height": 269
        },
        "outputId": "101f3267-58a8-43c8-a3be-eac9d97dd4ba"
      },
      "source": [
        "pred_y_lasso= model_lasso.predict(test)\n",
        "pred_y_lasso"
      ],
      "execution_count": null,
      "outputs": [
        {
          "output_type": "execute_result",
          "data": {
            "text/plain": [
              "array([ 157.82721784,   77.01301482,  794.67005192,  374.402732  ,\n",
              "        667.54869151, 1216.61774379,  224.76891985,  797.58496273,\n",
              "        178.16869096,  344.90652107,  366.1566231 ,  274.66030347,\n",
              "       1352.99294242,  140.79174256,  424.69301631,  107.01369425,\n",
              "        165.14871739,  520.46519799,  332.10221883,  304.4351544 ,\n",
              "        794.88513178,  125.11236836,  349.84447128,  678.34538914,\n",
              "        405.79791111,  536.84448125, 1121.10277833,  110.74779594,\n",
              "        152.64525209,  982.61884474,  490.64450694,  203.16213563,\n",
              "        357.19900525,  236.84716204,  210.7575896 ,  583.65271679,\n",
              "        160.08196155,  264.82338539,  258.40173075,  294.41193377,\n",
              "        146.61619939,  680.90196968,  219.38190886,  356.10807559,\n",
              "        343.1018388 ,  408.56623814,  332.42660934, 1022.15432957,\n",
              "        612.69825575,  158.05128527,  107.99187677,  402.98704903,\n",
              "        233.90009031,  162.05693222,  642.47334067,  170.87944497,\n",
              "       1282.35815292, 1033.37426004,  274.42409685])"
            ]
          },
          "metadata": {
            "tags": []
          },
          "execution_count": 33
        }
      ]
    },
    {
      "cell_type": "code",
      "metadata": {
        "id": "I8uWSM7QfpPL"
      },
      "source": [
        ""
      ],
      "execution_count": null,
      "outputs": []
    }
  ]
}